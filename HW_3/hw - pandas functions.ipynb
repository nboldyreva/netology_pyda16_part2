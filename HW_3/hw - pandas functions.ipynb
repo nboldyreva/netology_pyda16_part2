{
 "cells": [
  {
   "cell_type": "code",
   "execution_count": null,
   "metadata": {},
   "outputs": [],
   "source": [
    "import pandas as pd"
   ]
  },
  {
   "cell_type": "code",
   "execution_count": null,
   "metadata": {},
   "outputs": [],
   "source": [
    "df = pd.read_csv('ml-25m/ratings.csv')\n",
    "df2 = pd.read_csv('ml-25m/movies.csv')"
   ]
  },
  {
   "cell_type": "code",
   "execution_count": null,
   "metadata": {},
   "outputs": [],
   "source": [
    "movies_full = pd.merge(df,df2[['movieId','title']],on='movieId')\n",
    "movies_full.head()"
   ]
  },
  {
   "cell_type": "markdown",
   "metadata": {},
   "source": [
    "# Задание 1\n",
    "Напишите функцию, которая классифицирует фильмы из материалов занятия по\n",
    "следующим правилам:\n",
    "- оценка 2 и меньше - низкий рейтинг\n",
    "- оценка 4 и меньше - средний рейтинг\n",
    "- оценка 4.5 и 5 - высокий рейтинг\n",
    "Результат классификации запишите в столбец class"
   ]
  },
  {
   "cell_type": "code",
   "execution_count": null,
   "metadata": {},
   "outputs": [],
   "source": [
    "def classify(rating):\n",
    "    if rating <= 2.:\n",
    "        return \"Low\"\n",
    "    elif rating <= 4.:\n",
    "        return \"Normal\"\n",
    "    elif rating > 4.5:\n",
    "        return \"High\"\n",
    "    else:\n",
    "        return \"Unknown\"\n",
    "\n",
    "\n",
    "df['class'] = df['rating'].apply(classify)\n",
    "\n",
    "df.head()"
   ]
  },
  {
   "cell_type": "markdown",
   "metadata": {},
   "source": [
    "# Задание 2\n",
    "Используем файл keywords.csv.\n",
    "\n",
    "Необходимо написать гео-классификатор, который каждой строке сможет\n",
    "выставить географическую принадлежность определенному региону. Т. е. если\n",
    "поисковый запрос содержит название города региона, то в столбце 'region'\n",
    "пишется название этого региона. Если поисковый запрос не содержит названия\n",
    "города, то ставим 'undefined'.\n",
    "\n",
    "Правила распределения по регионам Центр, Северо-Запад и Дальний Восток:\n",
    "```\n",
    "geo_data = {\n",
    "   'Центр': ['москва', 'тула', 'ярославль'],\n",
    "   'Северо-Запад': ['петербург', 'псков', 'мурманск'],\n",
    "   'Дальний Восток': ['владивосток', 'сахалин', 'хабаровск']\n",
    "}\n",
    "```\n",
    "Результат классификации запишите в отдельный столбец region."
   ]
  },
  {
   "cell_type": "code",
   "execution_count": null,
   "metadata": {},
   "outputs": [],
   "source": [
    "df = pd.read_csv(\"keywords.csv\")"
   ]
  },
  {
   "cell_type": "code",
   "execution_count": null,
   "metadata": {},
   "outputs": [],
   "source": [
    "geo_data = {\n",
    "   'Центр': ['москва', 'тула', 'ярославль'],\n",
    "   'Северо-Запад': ['петербург', 'псков', 'мурманск'],\n",
    "   'Дальний Восток': ['владивосток', 'сахалин', 'хабаровск']\n",
    "}\n",
    "\n",
    "def geo_classify(keyword):\n",
    "    for word in keyword.split(' '):\n",
    "        for region,cities in geo_data.items():\n",
    "            if word in cities:\n",
    "                return region\n",
    "    return 'undefined'\n",
    "\n",
    "df['region'] = df['keyword'].apply(geo_classify)\n",
    "df[df.region != 'undefined'].head(10)"
   ]
  },
  {
   "cell_type": "markdown",
   "metadata": {},
   "source": [
    "# Задание 3 (бонусное)\n",
    "Есть мнение, что \"раньше снимали настоящее кино, не то что сейчас\". Ваша\n",
    "задача проверить это утверждение, используя файлы с рейтингами фильмов из\n",
    "прошлого домашнего занятия (файл ratings.csv из базы\n",
    "https://grouplens.org/datasets/movielens). Т. е. проверить верно ли, что с ростом\n",
    "года выпуска фильма его средний рейтинг становится ниже.\n",
    "При этом мы не будем затрагивать субьективные факторы выставления этих\n",
    "рейтингов, а пройдемся по следующему алгоритму:\n",
    "\n",
    "1. В переменную years запишите список из всех годов с 1950 по 2010\n",
    "2. Напишите функцию production_year, которая каждой строке из названия фильма выставляет год выпуска. Не все названия фильмов содержат год выпуска в одинаковом формате, поэтому используйте следующий алгоритм:\n",
    "  * для каждой строки пройдите по всем годам списка years\n",
    "  * если номер года присутствует в названии фильма, то функция возвращает этот\n",
    "год как год выпуска\n",
    "  * если ни один из номеров года списка years не встретился в названии фильма,\n",
    "то возвращается 1900 год\n",
    "3. Запишите год выпуска фильма по алгоритму пункта 2 в новый столбец 'year'\n",
    "4. Посчитайте средний рейтинг всех фильмов для каждого значения столбца\n",
    "'year' и отсортируйте результат по убыванию рейтинга"
   ]
  },
  {
   "cell_type": "code",
   "execution_count": null,
   "metadata": {},
   "outputs": [],
   "source": [
    "def production_year(title):\n",
    "    years = [x for x in range(1950, 2011, 1)]\n",
    "    for year in years:\n",
    "        if str(year) in title:\n",
    "            return year\n",
    "    return '1900'"
   ]
  },
  {
   "cell_type": "code",
   "execution_count": null,
   "metadata": {},
   "outputs": [],
   "source": [
    "movies_full['year'] = movies_full['title'].apply(production_year)\n",
    "movies_full.head()"
   ]
  },
  {
   "cell_type": "code",
   "execution_count": null,
   "metadata": {},
   "outputs": [],
   "source": [
    "movies_full.groupby('year').agg({'rating': 'mean'}).sort_values('rating', ascending=False).head(100)"
   ]
  }
 ],
 "metadata": {
  "kernelspec": {
   "display_name": "Python 3",
   "language": "python",
   "name": "python3"
  },
  "language_info": {
   "codemirror_mode": {
    "name": "ipython",
    "version": 3
   },
   "file_extension": ".py",
   "mimetype": "text/x-python",
   "name": "python",
   "nbconvert_exporter": "python",
   "pygments_lexer": "ipython3",
   "version": "3.7.6"
  }
 },
 "nbformat": 4,
 "nbformat_minor": 4
}
