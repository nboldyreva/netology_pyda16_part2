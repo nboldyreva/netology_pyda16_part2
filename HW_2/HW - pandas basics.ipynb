{
 "cells": [
  {
   "cell_type": "code",
   "execution_count": 1,
   "metadata": {},
   "outputs": [],
   "source": [
    "import pandas as pd"
   ]
  },
  {
   "cell_type": "markdown",
   "metadata": {},
   "source": [
    "# Задание 1\n",
    "Скачайте с сайта https://grouplens.org/datasets/movielens/ датасет любого размера. Определите какому фильму было выставлено больше всего оценок 5.0."
   ]
  },
  {
   "cell_type": "code",
   "execution_count": 14,
   "metadata": {},
   "outputs": [
    {
     "data": {
      "text/plain": [
       "318    39553\n",
       "Name: movieId, dtype: int64"
      ]
     },
     "execution_count": 14,
     "metadata": {},
     "output_type": "execute_result"
    }
   ],
   "source": [
    "ratings = pd.read_csv('ml-25m/ratings.csv')\n",
    "ratings[ratings.rating == 5.0].movieId.value_counts().head(1)"
   ]
  },
  {
   "cell_type": "markdown",
   "metadata": {},
   "source": [
    "# Задание 2\n",
    "По данным файла power.csv посчитайте суммарное потребление стран Прибалтики (Латвия, Литва и Эстония) категорий 4, 12 и 21 за период с 2005 по 2010 года. Не учитывайте в расчетах отрицательные значения quantity."
   ]
  },
  {
   "cell_type": "code",
   "execution_count": 28,
   "metadata": {},
   "outputs": [
    {
     "data": {
      "text/plain": [
       "240580.0"
      ]
     },
     "execution_count": 28,
     "metadata": {},
     "output_type": "execute_result"
    }
   ],
   "source": [
    "power = pd.read_csv('power.csv')\n",
    "power[(power.country.isin([\"Lithuania\", \"Latvia\",\"Estonia\"])) & (power.category.isin([4,12,21])) & (power.year >= 2005) & (power.year <= 2010) & (power.quantity >= 0.)].quantity.sum()"
   ]
  },
  {
   "cell_type": "markdown",
   "metadata": {},
   "source": [
    "# Задание 3\n",
    "Выберите страницу любого сайта с табличными данными. Импортируйте таблицы в pandas dataframe.\n",
    "Примеры страниц (необязательно брать именно эти):\n",
    "* https://fortrader.org/quotes\n",
    "* https://www.finanz.ru/valyuty/v-realnom-vremeni"
   ]
  },
  {
   "cell_type": "code",
   "execution_count": 81,
   "metadata": {},
   "outputs": [
    {
     "data": {
      "text/html": [
       "<div>\n",
       "<style scoped>\n",
       "    .dataframe tbody tr th:only-of-type {\n",
       "        vertical-align: middle;\n",
       "    }\n",
       "\n",
       "    .dataframe tbody tr th {\n",
       "        vertical-align: top;\n",
       "    }\n",
       "\n",
       "    .dataframe thead th {\n",
       "        text-align: right;\n",
       "    }\n",
       "</style>\n",
       "<table border=\"1\" class=\"dataframe\">\n",
       "  <thead>\n",
       "    <tr style=\"text-align: right;\">\n",
       "      <th></th>\n",
       "      <th>Валюта</th>\n",
       "      <th>Предложение</th>\n",
       "      <th>Спрос</th>\n",
       "      <th>Предыдущее закрытие</th>\n",
       "      <th>%</th>\n",
       "      <th>Абсолютное значение</th>\n",
       "      <th>Время</th>\n",
       "    </tr>\n",
       "  </thead>\n",
       "  <tbody>\n",
       "    <tr>\n",
       "      <th>0</th>\n",
       "      <td>GBP/RUB</td>\n",
       "      <td>892583</td>\n",
       "      <td>-</td>\n",
       "      <td>894699</td>\n",
       "      <td>-0,24 %</td>\n",
       "      <td>-2116</td>\n",
       "      <td>08.07.2020</td>\n",
       "    </tr>\n",
       "    <tr>\n",
       "      <th>1</th>\n",
       "      <td>EUR/RUB</td>\n",
       "      <td>803235</td>\n",
       "      <td>-</td>\n",
       "      <td>805130</td>\n",
       "      <td>-0,24 %</td>\n",
       "      <td>-1895</td>\n",
       "      <td>08.07.2020</td>\n",
       "    </tr>\n",
       "    <tr>\n",
       "      <th>2</th>\n",
       "      <td>USD/RUB</td>\n",
       "      <td>711771</td>\n",
       "      <td>-</td>\n",
       "      <td>714700</td>\n",
       "      <td>-0,41 %</td>\n",
       "      <td>-2929</td>\n",
       "      <td>08.07.2020</td>\n",
       "    </tr>\n",
       "    <tr>\n",
       "      <th>3</th>\n",
       "      <td>JPY/RUB</td>\n",
       "      <td>6619</td>\n",
       "      <td>-</td>\n",
       "      <td>6630</td>\n",
       "      <td>-0,17 %</td>\n",
       "      <td>-11</td>\n",
       "      <td>08.07.2020</td>\n",
       "    </tr>\n",
       "    <tr>\n",
       "      <th>4</th>\n",
       "      <td>CNY/RUB</td>\n",
       "      <td>101407</td>\n",
       "      <td>-</td>\n",
       "      <td>101657</td>\n",
       "      <td>-0,25 %</td>\n",
       "      <td>-250</td>\n",
       "      <td>08.07.2020</td>\n",
       "    </tr>\n",
       "  </tbody>\n",
       "</table>\n",
       "</div>"
      ],
      "text/plain": [
       "    Валюта  Предложение Спрос  Предыдущее закрытие        %  \\\n",
       "0  GBP/RUB       892583     -               894699  -0,24 %   \n",
       "1  EUR/RUB       803235     -               805130  -0,24 %   \n",
       "2  USD/RUB       711771     -               714700  -0,41 %   \n",
       "3  JPY/RUB         6619     -                 6630  -0,17 %   \n",
       "4  CNY/RUB       101407     -               101657  -0,25 %   \n",
       "\n",
       "   Абсолютное значение       Время  \n",
       "0                -2116  08.07.2020  \n",
       "1                -1895  08.07.2020  \n",
       "2                -2929  08.07.2020  \n",
       "3                  -11  08.07.2020  \n",
       "4                 -250  08.07.2020  "
      ]
     },
     "execution_count": 81,
     "metadata": {},
     "output_type": "execute_result"
    }
   ],
   "source": [
    "finanz = pd.read_html('https://www.finanz.ru/valyuty/v-realnom-vremeni',skiprows = [7,12,17,22,27,32], attrs = {'class': 'quote_list'}, encoding='utf-8')\n",
    "df = finanz[0].rename(columns = {'Рубль':'Валюта'})[[\"Валюта\",\"Предложение\",\"Спрос\",\"Предыдущее закрытие\",\"%\",\"Абсолютное значение\",\"Время\"]]\n",
    "df.head()"
   ]
  }
 ],
 "metadata": {
  "kernelspec": {
   "display_name": "Python 3",
   "language": "python",
   "name": "python3"
  },
  "language_info": {
   "codemirror_mode": {
    "name": "ipython",
    "version": 3
   },
   "file_extension": ".py",
   "mimetype": "text/x-python",
   "name": "python",
   "nbconvert_exporter": "python",
   "pygments_lexer": "ipython3",
   "version": "3.7.6"
  }
 },
 "nbformat": 4,
 "nbformat_minor": 4
}
